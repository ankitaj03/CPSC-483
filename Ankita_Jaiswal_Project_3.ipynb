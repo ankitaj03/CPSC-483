{
 "cells": [
  {
   "cell_type": "code",
   "execution_count": 1,
   "metadata": {},
   "outputs": [
    {
     "data": {
      "text/plain": [
       "'\\n# CLASS: CPSC 483\\n\\n# ASSIGNMENT 3\\n\\n# GROUP PARTICIPANTS: ABHISHEK MHATRE,\\n                      ANKITA JAISWAL,\\n                      MELIKA AMINI\\n'"
      ]
     },
     "execution_count": 1,
     "metadata": {},
     "output_type": "execute_result"
    }
   ],
   "source": [
    "\"\"\"\n",
    "# CLASS: CPSC 483\n",
    "\n",
    "# ASSIGNMENT 3\n",
    "\n",
    "# GROUP PARTICIPANTS: ABHISHEK MHATRE,\n",
    "                      ANKITA JAISWAL,\n",
    "                      MELIKA AMINI\n",
    "\"\"\""
   ]
  },
  {
   "cell_type": "code",
   "execution_count": 2,
   "metadata": {},
   "outputs": [],
   "source": [
    "\"\"\" Import Libraries \"\"\"\n",
    "\n",
    "import numpy as np\n",
    "import pandas\n",
    "from sklearn.preprocessing import scale,label_binarize\n",
    "from sklearn.metrics import confusion_matrix, roc_curve, roc_auc_score, auc\n",
    "import matplotlib.pyplot as plt"
   ]
  },
  {
   "cell_type": "code",
   "execution_count": 3,
   "metadata": {},
   "outputs": [],
   "source": [
    "\"\"\" Data Preprocessing \"\"\"\n",
    "# bank.csv from https://archive.ics.uci.edu/ml/datasets/Bank+Marketing\n",
    "\n",
    "bank = pandas.read_csv('bank.csv', sep=';')\n",
    "\n",
    "# Ordinal features\n",
    "#\n",
    "# Note: month probably shouldn't be ordinal.\n",
    "# Then again, neither should day.\n",
    "\n",
    "boolean = { 'no': 0.0, 'yes': 1.0 }\n",
    "months = {\n",
    "    'jan': 1.0, 'feb': 2.0, 'mar': 3.0, 'apr': 4.0,  'may': 5.0,  'jun': 6.0,\n",
    "    'jul': 7.0, 'aug': 8.0, 'sep': 9.0, 'oct': 10.0, 'nov': 11.0, 'dec': 12.0\n",
    "}\n",
    "\n",
    "bank.replace({\n",
    "    'default': boolean,\n",
    "    'housing': boolean,\n",
    "    'loan':    boolean,\n",
    "    'month':   months,\n",
    "    'y':       boolean\n",
    "}, inplace=True)\n",
    "\n",
    "# Categorical features\n",
    "#\n",
    "# Since we plan to use logistic regression, add drop_first=True\n",
    "# to use dummy instead of one-hot encoding\n",
    "\n",
    "categorical = ['job', 'marital', 'education', 'contact', 'poutcome']\n",
    "bank = pandas.get_dummies(bank, columns=categorical, prefix=categorical, drop_first=True)\n",
    "\n",
    "# Numeric features\n",
    "#\n",
    "# Standardized because we plan to use KNN and SVM \n",
    "\n",
    "scaled = ['age', 'balance', 'day', 'month', 'duration', 'campaign', 'pdays', 'previous']\n",
    "bank[scaled] = scale(bank[scaled].astype(float))\n",
    "\n",
    "# Training set and targets\n",
    "\n",
    "X = bank.drop(columns='y').values\n",
    "t = bank['y'].values\n"
   ]
  },
  {
   "cell_type": "code",
   "execution_count": 4,
   "metadata": {},
   "outputs": [],
   "source": [
    "\"\"\" Function to print differnt evaluations of a model \"\"\"\n",
    "def evaluate_model(classifier,test_samples,test_targets, predictions, is_roc=False):\n",
    "\n",
    "    # Score\n",
    "    score_ = classifier.score(test_samples, test_targets)\n",
    "    print('Score: ', score_, '\\n')\n",
    "\n",
    "    # Confusion Matrix\n",
    "    conf_matrix_ = confusion_matrix(test_targets,predictions)\n",
    "    print('Confusion Matrix:\\n', conf_matrix_ , '\\n')\n",
    "    \n",
    "    # Only print ROC and AUC if needed\n",
    "    if is_roc:\n",
    "        # ROC Curve\n",
    "        false_positive_rate = dict()\n",
    "        true_positive_rate = dict()\n",
    "        roc_auc = dict()\n",
    "\n",
    "        for i in range(n_classes):\n",
    "            false_positive_rate[i], true_positive_rate[i], _ = roc_curve(\n",
    "                test_targets[:,i], \n",
    "                predictions[:,i])\n",
    "            roc_auc[i] = auc(\n",
    "                false_positive_rate[i],\n",
    "                    true_positive_rate[i])\n",
    "\n",
    "        # Plotting the ROC Curve\n",
    "        plt.figure()\n",
    "        lw = 2\n",
    "\n",
    "        plt.plot(false_positive_rate[0],\n",
    "                 true_positive_rate[0],\n",
    "                 color='darkorange',\n",
    "                 lw=lw,\n",
    "                 label='ROC curve (area =%0.2f)' % roc_auc[0])\n",
    "        plt.plot([0,1],[0,1], color='navy', lw=lw, linestyle='--')\n",
    "        plt.xlim([0,1])\n",
    "        plt.ylim([0,1])\n",
    "        plt.ylabel('True Positive Rate')\n",
    "        plt.xlabel('False Positive Rate')\n",
    "        plt.title('Gaussian ROC Curve')\n",
    "        plt.legend(loc='lower right')\n",
    "        plt.show()\n",
    "\n",
    "    \n",
    "        # AUC Score\n",
    "        roc_auc_score_ = roc_auc_score(test_targets, predictions)\n",
    "        print('Area Under the Curve (AUC): ',roc_auc_score_)"
   ]
  },
  {
   "cell_type": "code",
   "execution_count": 5,
   "metadata": {},
   "outputs": [
    {
     "data": {
      "text/plain": [
       "(4521, 33)"
      ]
     },
     "execution_count": 5,
     "metadata": {},
     "output_type": "execute_result"
    }
   ],
   "source": [
    "bank.shape"
   ]
  },
  {
   "cell_type": "code",
   "execution_count": 6,
   "metadata": {
    "scrolled": true
   },
   "outputs": [
    {
     "data": {
      "text/html": [
       "<div>\n",
       "<style scoped>\n",
       "    .dataframe tbody tr th:only-of-type {\n",
       "        vertical-align: middle;\n",
       "    }\n",
       "\n",
       "    .dataframe tbody tr th {\n",
       "        vertical-align: top;\n",
       "    }\n",
       "\n",
       "    .dataframe thead th {\n",
       "        text-align: right;\n",
       "    }\n",
       "</style>\n",
       "<table border=\"1\" class=\"dataframe\">\n",
       "  <thead>\n",
       "    <tr style=\"text-align: right;\">\n",
       "      <th></th>\n",
       "      <th>age</th>\n",
       "      <th>default</th>\n",
       "      <th>balance</th>\n",
       "      <th>housing</th>\n",
       "      <th>loan</th>\n",
       "      <th>day</th>\n",
       "      <th>month</th>\n",
       "      <th>duration</th>\n",
       "      <th>campaign</th>\n",
       "      <th>pdays</th>\n",
       "      <th>...</th>\n",
       "      <th>marital_married</th>\n",
       "      <th>marital_single</th>\n",
       "      <th>education_secondary</th>\n",
       "      <th>education_tertiary</th>\n",
       "      <th>education_unknown</th>\n",
       "      <th>contact_telephone</th>\n",
       "      <th>contact_unknown</th>\n",
       "      <th>poutcome_other</th>\n",
       "      <th>poutcome_success</th>\n",
       "      <th>poutcome_unknown</th>\n",
       "    </tr>\n",
       "  </thead>\n",
       "  <tbody>\n",
       "    <tr>\n",
       "      <th>0</th>\n",
       "      <td>-1.056270</td>\n",
       "      <td>0.0</td>\n",
       "      <td>0.121072</td>\n",
       "      <td>0.0</td>\n",
       "      <td>0.0</td>\n",
       "      <td>0.374052</td>\n",
       "      <td>1.611873</td>\n",
       "      <td>-0.711861</td>\n",
       "      <td>-0.576829</td>\n",
       "      <td>-0.407218</td>\n",
       "      <td>...</td>\n",
       "      <td>1</td>\n",
       "      <td>0</td>\n",
       "      <td>0</td>\n",
       "      <td>0</td>\n",
       "      <td>0</td>\n",
       "      <td>0</td>\n",
       "      <td>0</td>\n",
       "      <td>0</td>\n",
       "      <td>0</td>\n",
       "      <td>1</td>\n",
       "    </tr>\n",
       "    <tr>\n",
       "      <th>1</th>\n",
       "      <td>-0.772583</td>\n",
       "      <td>0.0</td>\n",
       "      <td>1.118644</td>\n",
       "      <td>1.0</td>\n",
       "      <td>1.0</td>\n",
       "      <td>-0.596026</td>\n",
       "      <td>-0.490631</td>\n",
       "      <td>-0.169194</td>\n",
       "      <td>-0.576829</td>\n",
       "      <td>2.989044</td>\n",
       "      <td>...</td>\n",
       "      <td>1</td>\n",
       "      <td>0</td>\n",
       "      <td>1</td>\n",
       "      <td>0</td>\n",
       "      <td>0</td>\n",
       "      <td>0</td>\n",
       "      <td>0</td>\n",
       "      <td>0</td>\n",
       "      <td>0</td>\n",
       "      <td>0</td>\n",
       "    </tr>\n",
       "    <tr>\n",
       "      <th>2</th>\n",
       "      <td>-0.583458</td>\n",
       "      <td>0.0</td>\n",
       "      <td>-0.024144</td>\n",
       "      <td>1.0</td>\n",
       "      <td>0.0</td>\n",
       "      <td>0.010273</td>\n",
       "      <td>-0.911131</td>\n",
       "      <td>-0.303898</td>\n",
       "      <td>-0.576829</td>\n",
       "      <td>2.899143</td>\n",
       "      <td>...</td>\n",
       "      <td>0</td>\n",
       "      <td>1</td>\n",
       "      <td>0</td>\n",
       "      <td>1</td>\n",
       "      <td>0</td>\n",
       "      <td>0</td>\n",
       "      <td>0</td>\n",
       "      <td>0</td>\n",
       "      <td>0</td>\n",
       "      <td>0</td>\n",
       "    </tr>\n",
       "    <tr>\n",
       "      <th>3</th>\n",
       "      <td>-1.056270</td>\n",
       "      <td>0.0</td>\n",
       "      <td>0.017726</td>\n",
       "      <td>1.0</td>\n",
       "      <td>1.0</td>\n",
       "      <td>-1.566105</td>\n",
       "      <td>-0.070130</td>\n",
       "      <td>-0.250017</td>\n",
       "      <td>0.387967</td>\n",
       "      <td>-0.407218</td>\n",
       "      <td>...</td>\n",
       "      <td>1</td>\n",
       "      <td>0</td>\n",
       "      <td>0</td>\n",
       "      <td>1</td>\n",
       "      <td>0</td>\n",
       "      <td>0</td>\n",
       "      <td>1</td>\n",
       "      <td>0</td>\n",
       "      <td>0</td>\n",
       "      <td>1</td>\n",
       "    </tr>\n",
       "    <tr>\n",
       "      <th>4</th>\n",
       "      <td>1.686036</td>\n",
       "      <td>0.0</td>\n",
       "      <td>-0.472753</td>\n",
       "      <td>1.0</td>\n",
       "      <td>0.0</td>\n",
       "      <td>-1.323585</td>\n",
       "      <td>-0.490631</td>\n",
       "      <td>-0.146102</td>\n",
       "      <td>-0.576829</td>\n",
       "      <td>-0.407218</td>\n",
       "      <td>...</td>\n",
       "      <td>1</td>\n",
       "      <td>0</td>\n",
       "      <td>1</td>\n",
       "      <td>0</td>\n",
       "      <td>0</td>\n",
       "      <td>0</td>\n",
       "      <td>1</td>\n",
       "      <td>0</td>\n",
       "      <td>0</td>\n",
       "      <td>1</td>\n",
       "    </tr>\n",
       "  </tbody>\n",
       "</table>\n",
       "<p>5 rows × 33 columns</p>\n",
       "</div>"
      ],
      "text/plain": [
       "        age  default   balance  housing  loan       day     month  duration  \\\n",
       "0 -1.056270      0.0  0.121072      0.0   0.0  0.374052  1.611873 -0.711861   \n",
       "1 -0.772583      0.0  1.118644      1.0   1.0 -0.596026 -0.490631 -0.169194   \n",
       "2 -0.583458      0.0 -0.024144      1.0   0.0  0.010273 -0.911131 -0.303898   \n",
       "3 -1.056270      0.0  0.017726      1.0   1.0 -1.566105 -0.070130 -0.250017   \n",
       "4  1.686036      0.0 -0.472753      1.0   0.0 -1.323585 -0.490631 -0.146102   \n",
       "\n",
       "   campaign     pdays        ...         marital_married  marital_single  \\\n",
       "0 -0.576829 -0.407218        ...                       1               0   \n",
       "1 -0.576829  2.989044        ...                       1               0   \n",
       "2 -0.576829  2.899143        ...                       0               1   \n",
       "3  0.387967 -0.407218        ...                       1               0   \n",
       "4 -0.576829 -0.407218        ...                       1               0   \n",
       "\n",
       "   education_secondary  education_tertiary  education_unknown  \\\n",
       "0                    0                   0                  0   \n",
       "1                    1                   0                  0   \n",
       "2                    0                   1                  0   \n",
       "3                    0                   1                  0   \n",
       "4                    1                   0                  0   \n",
       "\n",
       "   contact_telephone  contact_unknown  poutcome_other  poutcome_success  \\\n",
       "0                  0                0               0                 0   \n",
       "1                  0                0               0                 0   \n",
       "2                  0                0               0                 0   \n",
       "3                  0                1               0                 0   \n",
       "4                  0                1               0                 0   \n",
       "\n",
       "   poutcome_unknown  \n",
       "0                 1  \n",
       "1                 0  \n",
       "2                 0  \n",
       "3                 1  \n",
       "4                 1  \n",
       "\n",
       "[5 rows x 33 columns]"
      ]
     },
     "execution_count": 6,
     "metadata": {},
     "output_type": "execute_result"
    }
   ],
   "source": [
    "bank.head(5)"
   ]
  },
  {
   "cell_type": "code",
   "execution_count": 7,
   "metadata": {},
   "outputs": [],
   "source": [
    "# Binarize targets\n",
    "\n",
    "t = label_binarize(t, classes=[0,1])\n",
    "n_classes = t.shape[1]"
   ]
  },
  {
   "cell_type": "markdown",
   "metadata": {},
   "source": [
    "### Q1 Use sklearn.model_selection.train_test_split to set aside 20% of the data as a test set."
   ]
  },
  {
   "cell_type": "code",
   "execution_count": 8,
   "metadata": {},
   "outputs": [],
   "source": [
    "from sklearn.model_selection import train_test_split"
   ]
  },
  {
   "cell_type": "code",
   "execution_count": 9,
   "metadata": {},
   "outputs": [],
   "source": [
    "# Split train and test data into input features and t\n",
    "train_input_features,test_input_features,train_targets,test_targets=\\\n",
    "train_test_split(X,t,\n",
    "                 test_size=0.2,\n",
    "                 random_state=0)"
   ]
  },
  {
   "cell_type": "code",
   "execution_count": 10,
   "metadata": {},
   "outputs": [
    {
     "name": "stdout",
     "output_type": "stream",
     "text": [
      "Train Input Features Shape:  (3616, 32)\n",
      "Train targets shape:  (3616, 1)\n"
     ]
    }
   ],
   "source": [
    "print('Train Input Features Shape: ',train_input_features.shape)\n",
    "print('Train targets shape: ',train_targets.shape)"
   ]
  },
  {
   "cell_type": "code",
   "execution_count": 11,
   "metadata": {},
   "outputs": [
    {
     "name": "stdout",
     "output_type": "stream",
     "text": [
      "Test Input Features Shape:  (905, 32)\n",
      "Test targets shape:  (905, 1)\n"
     ]
    }
   ],
   "source": [
    "print('Test Input Features Shape: ',test_input_features.shape)\n",
    "print('Test targets shape: ',test_targets.shape)"
   ]
  },
  {
   "cell_type": "code",
   "execution_count": null,
   "metadata": {},
   "outputs": [],
   "source": []
  },
  {
   "cell_type": "markdown",
   "metadata": {},
   "source": [
    "### Q2 Fit an sklearn.naive_bayes.GaussianNB classifier to your training set."
   ]
  },
  {
   "cell_type": "code",
   "execution_count": 12,
   "metadata": {},
   "outputs": [],
   "source": [
    "from sklearn.naive_bayes import GaussianNB"
   ]
  },
  {
   "cell_type": "code",
   "execution_count": 13,
   "metadata": {},
   "outputs": [
    {
     "name": "stderr",
     "output_type": "stream",
     "text": [
      "C:\\Users\\asus\\Anaconda3\\lib\\site-packages\\sklearn\\utils\\validation.py:761: DataConversionWarning: A column-vector y was passed when a 1d array was expected. Please change the shape of y to (n_samples, ), for example using ravel().\n",
      "  y = column_or_1d(y, warn=True)\n"
     ]
    },
    {
     "data": {
      "text/plain": [
       "GaussianNB(priors=None, var_smoothing=1e-09)"
      ]
     },
     "execution_count": 13,
     "metadata": {},
     "output_type": "execute_result"
    }
   ],
   "source": [
    "# Create a gaussian classifier\n",
    "gaussian_classifier = GaussianNB()\n",
    "\n",
    "# Fit intput features and targets using Gauassian Classifier\n",
    "gaussian_classifier.fit(train_input_features,train_targets)"
   ]
  },
  {
   "cell_type": "markdown",
   "metadata": {},
   "source": [
    "### Q3 Use the classifier to predict the targets in the test set."
   ]
  },
  {
   "cell_type": "code",
   "execution_count": 14,
   "metadata": {
    "scrolled": false
   },
   "outputs": [
    {
     "name": "stdout",
     "output_type": "stream",
     "text": [
      "Gaussian NB classifier model Evaluations:\n",
      "\n",
      "Score:  0.817679558011 \n",
      "\n",
      "Confusion Matrix:\n",
      " [[681 112]\n",
      " [ 53  59]] \n",
      "\n"
     ]
    },
    {
     "data": {
      "image/png": "[encoded data removed]",
      "text/plain": [
       "<Figure size 432x288 with 1 Axes>"
      ]
     },
     "metadata": {
      "needs_background": "light"
     },
     "output_type": "display_data"
    },
    {
     "name": "stdout",
     "output_type": "stream",
     "text": [
      "Area Under the Curve (AUC):  0.692774950459\n"
     ]
    }
   ],
   "source": [
    "# Predict using Gaussian classifier\n",
    "gaussian_predictions = gaussian_classifier.predict(test_input_features)\n",
    "\n",
    "# Reshaping guassian predictions outcome\n",
    "gaussian_predictions =gaussian_predictions.reshape(-1,1)\n",
    "\n",
    "print('Gaussian NB classifier model Evaluations:\\n')\n",
    "evaluate_model(gaussian_classifier,test_input_features,test_targets, gaussian_predictions, is_roc=True)"
   ]
  },
  {
   "cell_type": "code",
   "execution_count": null,
   "metadata": {},
   "outputs": [],
   "source": []
  },
  {
   "cell_type": "markdown",
   "metadata": {},
   "source": [
    "### Q4 Fit an sklearn.linear_model.LogisticRegression model to your training set, setting fit_intercept to False since the dataset is normalized."
   ]
  },
  {
   "cell_type": "code",
   "execution_count": 15,
   "metadata": {},
   "outputs": [],
   "source": [
    "# Import\n",
    "from sklearn.linear_model import LogisticRegression"
   ]
  },
  {
   "cell_type": "code",
   "execution_count": 16,
   "metadata": {},
   "outputs": [
    {
     "name": "stderr",
     "output_type": "stream",
     "text": [
      "C:\\Users\\asus\\Anaconda3\\lib\\site-packages\\sklearn\\linear_model\\logistic.py:433: FutureWarning: Default solver will be changed to 'lbfgs' in 0.22. Specify a solver to silence this warning.\n",
      "  FutureWarning)\n",
      "C:\\Users\\asus\\Anaconda3\\lib\\site-packages\\sklearn\\utils\\validation.py:761: DataConversionWarning: A column-vector y was passed when a 1d array was expected. Please change the shape of y to (n_samples, ), for example using ravel().\n",
      "  y = column_or_1d(y, warn=True)\n"
     ]
    },
    {
     "data": {
      "text/plain": [
       "LogisticRegression(C=1.0, class_weight=None, dual=False, fit_intercept=False,\n",
       "          intercept_scaling=1, max_iter=100, multi_class='warn',\n",
       "          n_jobs=None, penalty='l2', random_state=0, solver='warn',\n",
       "          tol=0.0001, verbose=0, warm_start=False)"
      ]
     },
     "execution_count": 16,
     "metadata": {},
     "output_type": "execute_result"
    }
   ],
   "source": [
    "# Create logistic regression classifier object\n",
    "logistic_regressor = LogisticRegression(random_state=0,\n",
    "                                       fit_intercept=False,)\n",
    "\n",
    "# Fit input features and targets into logistic regression classifier\n",
    "logistic_regressor.fit(train_input_features,train_targets)"
   ]
  },
  {
   "cell_type": "code",
   "execution_count": 17,
   "metadata": {
    "scrolled": false
   },
   "outputs": [
    {
     "name": "stdout",
     "output_type": "stream",
     "text": [
      "Logistic Regression model Evaluations:\n",
      "\n",
      "Score:  0.895027624309 \n",
      "\n",
      "Confusion Matrix:\n",
      " [[768  25]\n",
      " [ 70  42]] \n",
      "\n"
     ]
    },
    {
     "data": {
      "image/png": "[encoded data removed]",
      "text/plain": [
       "<Figure size 432x288 with 1 Axes>"
      ]
     },
     "metadata": {
      "needs_background": "light"
     },
     "output_type": "display_data"
    },
    {
     "name": "stdout",
     "output_type": "stream",
     "text": [
      "Area Under the Curve (AUC):  0.671737074401\n"
     ]
    }
   ],
   "source": [
    "# Predict using logistic regression classifier\n",
    "logistic_regressor_predictions = logistic_regressor.predict(test_input_features)\n",
    "\n",
    "print('Logistic Regression model Evaluations:\\n')\n",
    "evaluate_model(logistic_regressor,\n",
    "               test_input_features,\n",
    "               test_targets,\n",
    "               logistic_regressor_predictions.reshape(-1,1),\n",
    "              is_roc=True)"
   ]
  },
  {
   "cell_type": "code",
   "execution_count": null,
   "metadata": {
    "scrolled": true
   },
   "outputs": [],
   "source": []
  },
  {
   "cell_type": "code",
   "execution_count": null,
   "metadata": {},
   "outputs": [],
   "source": []
  },
  {
   "cell_type": "markdown",
   "metadata": {},
   "source": [
    "### Q5 Fit sklearn.svm.SVC models"
   ]
  },
  {
   "cell_type": "code",
   "execution_count": 18,
   "metadata": {},
   "outputs": [],
   "source": [
    "# Import\n",
    "from sklearn.svm import SVC"
   ]
  },
  {
   "cell_type": "markdown",
   "metadata": {},
   "source": [
    "#### [A] 'linear' model"
   ]
  },
  {
   "cell_type": "code",
   "execution_count": 19,
   "metadata": {},
   "outputs": [
    {
     "name": "stderr",
     "output_type": "stream",
     "text": [
      "C:\\Users\\asus\\Anaconda3\\lib\\site-packages\\sklearn\\utils\\validation.py:761: DataConversionWarning: A column-vector y was passed when a 1d array was expected. Please change the shape of y to (n_samples, ), for example using ravel().\n",
      "  y = column_or_1d(y, warn=True)\n"
     ]
    },
    {
     "name": "stdout",
     "output_type": "stream",
     "text": [
      "Score:  0.889502762431 \n",
      "\n",
      "Confusion Matrix:\n",
      " [[788   5]\n",
      " [ 95  17]] \n",
      "\n"
     ]
    }
   ],
   "source": [
    "#fit data using linear kernel function\n",
    "svc_linear = SVC(kernel = 'linear')\n",
    "svc_linear.fit(train_input_features, train_targets)\n",
    "\n",
    "# predict\n",
    "predict_SVC_linear = svc_linear.predict(test_input_features)\n",
    "\n",
    "evaluate_model(svc_linear, test_input_features, test_targets, predict_SVC_linear, is_roc=False)"
   ]
  },
  {
   "cell_type": "markdown",
   "metadata": {},
   "source": [
    "#### [B] 'poly' model"
   ]
  },
  {
   "cell_type": "code",
   "execution_count": 20,
   "metadata": {},
   "outputs": [
    {
     "name": "stderr",
     "output_type": "stream",
     "text": [
      "C:\\Users\\asus\\Anaconda3\\lib\\site-packages\\sklearn\\utils\\validation.py:761: DataConversionWarning: A column-vector y was passed when a 1d array was expected. Please change the shape of y to (n_samples, ), for example using ravel().\n",
      "  y = column_or_1d(y, warn=True)\n",
      "C:\\Users\\asus\\Anaconda3\\lib\\site-packages\\sklearn\\svm\\base.py:196: FutureWarning: The default value of gamma will change from 'auto' to 'scale' in version 0.22 to account better for unscaled features. Set gamma explicitly to 'auto' or 'scale' to avoid this warning.\n",
      "  \"avoid this warning.\", FutureWarning)\n"
     ]
    },
    {
     "name": "stdout",
     "output_type": "stream",
     "text": [
      "Score:  0.872928176796 \n",
      "\n",
      "Confusion Matrix:\n",
      " [[786   7]\n",
      " [108   4]] \n",
      "\n"
     ]
    }
   ],
   "source": [
    "#fit data using poly kernel function\n",
    "svc_poly = SVC(kernel = 'poly')\n",
    "svc_poly.fit(train_input_features, train_targets)\n",
    "\n",
    "# predict\n",
    "predict_SVC_poly = svc_poly.predict(test_input_features)\n",
    "\n",
    "evaluate_model(svc_poly, test_input_features, test_targets, predict_SVC_poly, is_roc=False)"
   ]
  },
  {
   "cell_type": "markdown",
   "metadata": {},
   "source": [
    "#### [C] 'rbf' model"
   ]
  },
  {
   "cell_type": "code",
   "execution_count": 21,
   "metadata": {},
   "outputs": [
    {
     "name": "stderr",
     "output_type": "stream",
     "text": [
      "C:\\Users\\asus\\Anaconda3\\lib\\site-packages\\sklearn\\utils\\validation.py:761: DataConversionWarning: A column-vector y was passed when a 1d array was expected. Please change the shape of y to (n_samples, ), for example using ravel().\n",
      "  y = column_or_1d(y, warn=True)\n",
      "C:\\Users\\asus\\Anaconda3\\lib\\site-packages\\sklearn\\svm\\base.py:196: FutureWarning: The default value of gamma will change from 'auto' to 'scale' in version 0.22 to account better for unscaled features. Set gamma explicitly to 'auto' or 'scale' to avoid this warning.\n",
      "  \"avoid this warning.\", FutureWarning)\n"
     ]
    },
    {
     "name": "stdout",
     "output_type": "stream",
     "text": [
      "Score:  0.880662983425 \n",
      "\n",
      "Confusion Matrix:\n",
      " [[781  12]\n",
      " [ 96  16]] \n",
      "\n"
     ]
    }
   ],
   "source": [
    "#fit data using rbf kernel function\n",
    "svc_rbf = SVC(kernel = 'rbf')\n",
    "svc_rbf.fit(train_input_features, train_targets)\n",
    "\n",
    "# predict\n",
    "predict_SVC_rbf = svc_rbf.predict(test_input_features)\n",
    "\n",
    "evaluate_model(svc_rbf, test_input_features, test_targets, predict_SVC_rbf, is_roc=False)"
   ]
  },
  {
   "cell_type": "markdown",
   "metadata": {},
   "source": [
    "#### [D] 'sigmoid' model"
   ]
  },
  {
   "cell_type": "code",
   "execution_count": 22,
   "metadata": {
    "scrolled": true
   },
   "outputs": [
    {
     "name": "stderr",
     "output_type": "stream",
     "text": [
      "C:\\Users\\asus\\Anaconda3\\lib\\site-packages\\sklearn\\utils\\validation.py:761: DataConversionWarning: A column-vector y was passed when a 1d array was expected. Please change the shape of y to (n_samples, ), for example using ravel().\n",
      "  y = column_or_1d(y, warn=True)\n",
      "C:\\Users\\asus\\Anaconda3\\lib\\site-packages\\sklearn\\svm\\base.py:196: FutureWarning: The default value of gamma will change from 'auto' to 'scale' in version 0.22 to account better for unscaled features. Set gamma explicitly to 'auto' or 'scale' to avoid this warning.\n",
      "  \"avoid this warning.\", FutureWarning)\n"
     ]
    },
    {
     "name": "stdout",
     "output_type": "stream",
     "text": [
      "Score:  0.869613259669 \n",
      "\n",
      "Confusion Matrix:\n",
      " [[759  34]\n",
      " [ 84  28]] \n",
      "\n"
     ]
    }
   ],
   "source": [
    "#fit data using sigmoid kernel function\n",
    "svc_sigmoid = SVC(kernel = 'sigmoid')\n",
    "svc_sigmoid.fit(train_input_features, train_targets)\n",
    "\n",
    "# predict\n",
    "predict_SVC_sigmoid = svc_sigmoid.predict(test_input_features)\n",
    "\n",
    "evaluate_model(svc_sigmoid, test_input_features, test_targets, predict_SVC_sigmoid, is_roc=False)"
   ]
  },
  {
   "cell_type": "code",
   "execution_count": null,
   "metadata": {},
   "outputs": [],
   "source": []
  },
  {
   "cell_type": "markdown",
   "metadata": {},
   "source": [
    "### Q6 Of the classifiers you fit in experiments (2) through (5), which has the best performance?"
   ]
  },
  {
   "cell_type": "markdown",
   "metadata": {},
   "source": [
    "The classifier with the best performance is SVC model using Linear kernel function with 0.8895027624309392 accuracy as compare to the Gaussian Naive bayes with 0.8176795580110497 accuracy score. "
   ]
  },
  {
   "cell_type": "markdown",
   "metadata": {},
   "source": [
    "### Q7 The best-performing classifier you found in experiment (6) seems to be doing pretty well, but let’s check our assumptions. How many examples in the training set had a target value of 0? How many had a target value of 1? What would our accuracy be if we simply predicted 0, regardless of the input? What would the AUC score be?\n"
   ]
  },
  {
   "cell_type": "markdown",
   "metadata": {},
   "source": [
    "There are 3207 examples that have the target value 0 and 409 example have target value of 1. \n",
    "If we just predicted 0 regardless of the input then, the accuracy would be 87%\n",
    "The AUC score would be 0.5 "
   ]
  },
  {
   "cell_type": "code",
   "execution_count": null,
   "metadata": {},
   "outputs": [],
   "source": []
  },
  {
   "cell_type": "markdown",
   "metadata": {},
   "source": [
    "### Q8 Extra credit: One of the easiest ways to deal with an unbalanced dataset is random oversampling. Augment your dataset until there are equal numbers of positive and negative examples, then re-fit the classifiers in experiments (2) through (5). "
   ]
  },
  {
   "cell_type": "code",
   "execution_count": 23,
   "metadata": {},
   "outputs": [
    {
     "name": "stderr",
     "output_type": "stream",
     "text": [
      "C:\\Users\\asus\\Anaconda3\\lib\\site-packages\\sklearn\\utils\\validation.py:761: DataConversionWarning: A column-vector y was passed when a 1d array was expected. Please change the shape of y to (n_samples, ), for example using ravel().\n",
      "  y = column_or_1d(y, warn=True)\n"
     ]
    }
   ],
   "source": [
    "from imblearn.over_sampling import RandomOverSampler\n",
    "ros = RandomOverSampler(random_state=0)\n",
    "X_resampled, y_resampled = ros.fit_resample(X,t)"
   ]
  },
  {
   "cell_type": "code",
   "execution_count": 24,
   "metadata": {},
   "outputs": [
    {
     "data": {
      "text/plain": [
       "((8000, 32), (8000,))"
      ]
     },
     "execution_count": 24,
     "metadata": {},
     "output_type": "execute_result"
    }
   ],
   "source": [
    "X_resampled.shape, y_resampled.shape"
   ]
  },
  {
   "cell_type": "code",
   "execution_count": 25,
   "metadata": {},
   "outputs": [],
   "source": [
    "# Binarize the output\n",
    "from sklearn.preprocessing import label_binarize\n",
    "y_resampled = label_binarize(y_resampled, classes=[0,1])\n",
    "n_classes = y_resampled.shape[1]"
   ]
  },
  {
   "cell_type": "code",
   "execution_count": 26,
   "metadata": {},
   "outputs": [],
   "source": [
    "# Split train and test data into input features and t\n",
    "train_input_features_new,test_input_features_new, train_targets_new,  test_targets_new = train_test_split(X_resampled,y_resampled, test_size=0.2, random_state=0)"
   ]
  },
  {
   "cell_type": "code",
   "execution_count": 27,
   "metadata": {},
   "outputs": [
    {
     "name": "stdout",
     "output_type": "stream",
     "text": [
      "Gaussian NB classifier model Evaluations:\n",
      "\n",
      "Score:  0.703125 \n",
      "\n",
      "Confusion Matrix:\n",
      " [[662 140]\n",
      " [335 463]] \n",
      "\n"
     ]
    },
    {
     "name": "stderr",
     "output_type": "stream",
     "text": [
      "C:\\Users\\asus\\Anaconda3\\lib\\site-packages\\sklearn\\utils\\validation.py:761: DataConversionWarning: A column-vector y was passed when a 1d array was expected. Please change the shape of y to (n_samples, ), for example using ravel().\n",
      "  y = column_or_1d(y, warn=True)\n"
     ]
    },
    {
     "data": {
      "image/png": "[encoded data removed]",
      "text/plain": [
       "<Figure size 432x288 with 1 Axes>"
      ]
     },
     "metadata": {
      "needs_background": "light"
     },
     "output_type": "display_data"
    },
    {
     "name": "stdout",
     "output_type": "stream",
     "text": [
      "Area Under the Curve (AUC):  0.702818455115\n"
     ]
    }
   ],
   "source": [
    "\"\"\" Gaussian Classifier \"\"\"\n",
    "\n",
    "# Create a gaussian classifier\n",
    "gaussian_classifier = GaussianNB()\n",
    "\n",
    "# Fit intput features and targets using Gauassian Classifier\n",
    "gaussian_classifier.fit(train_input_features_new,train_targets_new)\n",
    "\n",
    "# Predict using Gaussian classifier\n",
    "gaussian_predictions = gaussian_classifier.predict(test_input_features_new)\n",
    "\n",
    "# Reshaping guassian predictions outcome\n",
    "gaussian_predictions =gaussian_predictions.reshape(-1,1)\n",
    "\n",
    "print('Gaussian NB classifier model Evaluations:\\n')\n",
    "evaluate_model(gaussian_classifier,test_input_features_new,test_targets_new, gaussian_predictions, is_roc=True)"
   ]
  },
  {
   "cell_type": "code",
   "execution_count": 28,
   "metadata": {},
   "outputs": [
    {
     "name": "stderr",
     "output_type": "stream",
     "text": [
      "C:\\Users\\asus\\Anaconda3\\lib\\site-packages\\sklearn\\linear_model\\logistic.py:433: FutureWarning: Default solver will be changed to 'lbfgs' in 0.22. Specify a solver to silence this warning.\n",
      "  FutureWarning)\n",
      "C:\\Users\\asus\\Anaconda3\\lib\\site-packages\\sklearn\\utils\\validation.py:761: DataConversionWarning: A column-vector y was passed when a 1d array was expected. Please change the shape of y to (n_samples, ), for example using ravel().\n",
      "  y = column_or_1d(y, warn=True)\n"
     ]
    },
    {
     "name": "stdout",
     "output_type": "stream",
     "text": [
      "Logistic Regression model Evaluations:\n",
      "\n",
      "Score:  0.801875 \n",
      "\n",
      "Confusion Matrix:\n",
      " [[672 130]\n",
      " [187 611]] \n",
      "\n"
     ]
    },
    {
     "data": {
      "image/png": "[encoded data removed]",
      "text/plain": [
       "<Figure size 432x288 with 1 Axes>"
      ]
     },
     "metadata": {
      "needs_background": "light"
     },
     "output_type": "display_data"
    },
    {
     "name": "stdout",
     "output_type": "stream",
     "text": [
      "Area Under the Curve (AUC):  0.801784698654\n"
     ]
    }
   ],
   "source": [
    "\"\"\" Logistic Reggression \"\"\"\n",
    "\n",
    "# Create logistic regression classifier object\n",
    "logistic_regressor = LogisticRegression(random_state=0,\n",
    "                                       fit_intercept=False,)\n",
    "\n",
    "# Fit input features and targets into logistic regression classifier\n",
    "logistic_regressor.fit(train_input_features_new,train_targets_new)\n",
    "\n",
    "# Predict using logistic regression classifier\n",
    "logistic_regressor_predictions = logistic_regressor.predict(test_input_features_new)\n",
    "\n",
    "print('Logistic Regression model Evaluations:\\n')\n",
    "evaluate_model(logistic_regressor,\n",
    "               test_input_features_new,\n",
    "               test_targets_new,\n",
    "               logistic_regressor_predictions.reshape(-1,1),\n",
    "              is_roc=True)"
   ]
  },
  {
   "cell_type": "code",
   "execution_count": 29,
   "metadata": {},
   "outputs": [
    {
     "name": "stderr",
     "output_type": "stream",
     "text": [
      "C:\\Users\\asus\\Anaconda3\\lib\\site-packages\\sklearn\\utils\\validation.py:761: DataConversionWarning: A column-vector y was passed when a 1d array was expected. Please change the shape of y to (n_samples, ), for example using ravel().\n",
      "  y = column_or_1d(y, warn=True)\n"
     ]
    },
    {
     "name": "stdout",
     "output_type": "stream",
     "text": [
      "SV model with 'linear' kernal:\n",
      "\n",
      "Score:  0.793125 \n",
      "\n",
      "Confusion Matrix:\n",
      " [[660 142]\n",
      " [189 609]] \n",
      "\n"
     ]
    },
    {
     "name": "stderr",
     "output_type": "stream",
     "text": [
      "C:\\Users\\asus\\Anaconda3\\lib\\site-packages\\sklearn\\utils\\validation.py:761: DataConversionWarning: A column-vector y was passed when a 1d array was expected. Please change the shape of y to (n_samples, ), for example using ravel().\n",
      "  y = column_or_1d(y, warn=True)\n",
      "C:\\Users\\asus\\Anaconda3\\lib\\site-packages\\sklearn\\svm\\base.py:196: FutureWarning: The default value of gamma will change from 'auto' to 'scale' in version 0.22 to account better for unscaled features. Set gamma explicitly to 'auto' or 'scale' to avoid this warning.\n",
      "  \"avoid this warning.\", FutureWarning)\n"
     ]
    },
    {
     "name": "stdout",
     "output_type": "stream",
     "text": [
      "SV model with 'poly' kernal:\n",
      "\n",
      "Score:  0.815625 \n",
      "\n",
      "Confusion Matrix:\n",
      " [[699 103]\n",
      " [192 606]] \n",
      "\n"
     ]
    },
    {
     "name": "stderr",
     "output_type": "stream",
     "text": [
      "C:\\Users\\asus\\Anaconda3\\lib\\site-packages\\sklearn\\utils\\validation.py:761: DataConversionWarning: A column-vector y was passed when a 1d array was expected. Please change the shape of y to (n_samples, ), for example using ravel().\n",
      "  y = column_or_1d(y, warn=True)\n",
      "C:\\Users\\asus\\Anaconda3\\lib\\site-packages\\sklearn\\svm\\base.py:196: FutureWarning: The default value of gamma will change from 'auto' to 'scale' in version 0.22 to account better for unscaled features. Set gamma explicitly to 'auto' or 'scale' to avoid this warning.\n",
      "  \"avoid this warning.\", FutureWarning)\n"
     ]
    },
    {
     "name": "stdout",
     "output_type": "stream",
     "text": [
      "SV model with 'rbf' kernal:\n",
      "\n",
      "Score:  0.84 \n",
      "\n",
      "Confusion Matrix:\n",
      " [[669 133]\n",
      " [123 675]] \n",
      "\n"
     ]
    },
    {
     "name": "stderr",
     "output_type": "stream",
     "text": [
      "C:\\Users\\asus\\Anaconda3\\lib\\site-packages\\sklearn\\utils\\validation.py:761: DataConversionWarning: A column-vector y was passed when a 1d array was expected. Please change the shape of y to (n_samples, ), for example using ravel().\n",
      "  y = column_or_1d(y, warn=True)\n",
      "C:\\Users\\asus\\Anaconda3\\lib\\site-packages\\sklearn\\svm\\base.py:196: FutureWarning: The default value of gamma will change from 'auto' to 'scale' in version 0.22 to account better for unscaled features. Set gamma explicitly to 'auto' or 'scale' to avoid this warning.\n",
      "  \"avoid this warning.\", FutureWarning)\n"
     ]
    },
    {
     "name": "stdout",
     "output_type": "stream",
     "text": [
      "SV model with 'sigmoid' kernal:\n",
      "\n",
      "Score:  0.74 \n",
      "\n",
      "Confusion Matrix:\n",
      " [[609 193]\n",
      " [223 575]] \n",
      "\n"
     ]
    }
   ],
   "source": [
    "\"\"\" SVC \"\"\"\n",
    "\n",
    "#### [A] 'linear' model\n",
    "\n",
    "#fit data using linear kernel function\n",
    "svc_linear = SVC(kernel = 'linear')\n",
    "svc_linear.fit(train_input_features_new, train_targets_new)\n",
    "\n",
    "# predict\n",
    "predict_SVC_linear = svc_linear.predict(test_input_features_new)\n",
    "print('SV model with \\'linear\\' kernal:\\n')\n",
    "evaluate_model(svc_linear, test_input_features_new, test_targets_new, predict_SVC_linear, is_roc=False)\n",
    "\n",
    "\n",
    "\n",
    "#### [B] 'poly' model\n",
    "\n",
    "#fit data using poly kernel function\n",
    "svc_poly = SVC(kernel = 'poly')\n",
    "svc_poly.fit(train_input_features_new, train_targets_new)\n",
    "\n",
    "# predict\n",
    "predict_SVC_poly = svc_poly.predict(test_input_features_new)\n",
    "print('SV model with \\'poly\\' kernal:\\n')\n",
    "evaluate_model(svc_poly, test_input_features_new, test_targets_new, predict_SVC_poly, is_roc=False)\n",
    "\n",
    "\n",
    "\n",
    "#### [C] 'rbf' model\n",
    "\n",
    "#fit data using rbf kernel function\n",
    "svc_rbf = SVC(kernel = 'rbf')\n",
    "svc_rbf.fit(train_input_features_new, train_targets_new)\n",
    "\n",
    "# predict\n",
    "predict_SVC_rbf = svc_rbf.predict(test_input_features_new)\n",
    "print('SV model with \\'rbf\\' kernal:\\n')\n",
    "evaluate_model(svc_rbf, test_input_features_new, test_targets_new, predict_SVC_rbf, is_roc=False)\n",
    "\n",
    "\n",
    "\n",
    "#### [D] 'sigmoid' model\n",
    "\n",
    "#fit data using sigmoid kernel function\n",
    "svc_sigmoid = SVC(kernel = 'sigmoid')\n",
    "svc_sigmoid.fit(train_input_features_new, train_targets_new)\n",
    "\n",
    "# predict\n",
    "predict_SVC_sigmoid = svc_sigmoid.predict(test_input_features_new)\n",
    "print('SV model with \\'sigmoid\\' kernal:\\n')\n",
    "evaluate_model(svc_sigmoid, test_input_features_new, test_targets_new, predict_SVC_sigmoid, is_roc=False)"
   ]
  },
  {
   "cell_type": "markdown",
   "metadata": {},
   "source": [
    "#### Do the metrics improve?"
   ]
  },
  {
   "cell_type": "markdown",
   "metadata": {},
   "source": [
    "> No, the metrics did not improve in any of the models. "
   ]
  },
  {
   "cell_type": "code",
   "execution_count": null,
   "metadata": {},
   "outputs": [],
   "source": []
  }
 ],
 "metadata": {
  "kernelspec": {
   "display_name": "Python 3",
   "language": "python",
   "name": "python3"
  },
  "language_info": {
   "codemirror_mode": {
    "name": "ipython",
    "version": 3
   },
   "file_extension": ".py",
   "mimetype": "text/x-python",
   "name": "python",
   "nbconvert_exporter": "python",
   "pygments_lexer": "ipython3",
   "version": "3.7.0"
  }
 },
 "nbformat": 4,
 "nbformat_minor": 2
}
